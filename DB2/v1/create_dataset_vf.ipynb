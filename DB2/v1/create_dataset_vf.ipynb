{
 "cells": [
  {
   "cell_type": "code",
   "execution_count": 1,
   "metadata": {
    "executionInfo": {
     "elapsed": 2966,
     "status": "ok",
     "timestamp": 1632432894173,
     "user": {
      "displayName": "EMG hand gesture Recognition system",
      "photoUrl": "https://lh3.googleusercontent.com/a/default-user=s64",
      "userId": "16267807696113233248"
     },
     "user_tz": -60
    },
    "id": "gq_kAOZp0A3s"
   },
   "outputs": [],
   "source": [
    "from scipy.io import loadmat\n",
    "from scipy.io import savemat\n",
    "import numpy as np\n",
    "import statistics as stat\n",
    "import random\n",
    "from tensorflow.keras.utils import to_categorical\n",
    "from sklearn.preprocessing import StandardScaler"
   ]
  },
  {
   "cell_type": "code",
   "execution_count": 2,
   "metadata": {
    "executionInfo": {
     "elapsed": 8,
     "status": "ok",
     "timestamp": 1632432894176,
     "user": {
      "displayName": "EMG hand gesture Recognition system",
      "photoUrl": "https://lh3.googleusercontent.com/a/default-user=s64",
      "userId": "16267807696113233248"
     },
     "user_tz": -60
    },
    "id": "q0y39MP5J12v"
   },
   "outputs": [],
   "source": [
    "def get_signals_info(emg, restimulus, debut , fin):\n",
    "    emg_signals = emg[debut:fin]\n",
    "    emg_labels_ = restimulus[debut:fin]\n",
    "    emg_labels = list(map(lambda x: x[0], emg_labels_))\n",
    "    return emg_signals, emg_labels\n",
    "    \n",
    "def get_index_list(labels, index_mouve):\n",
    "  index_list = ([np.where(labels == index_mouve) ])\n",
    "  return np.squeeze(np.concatenate(index_list, axis=1))\n",
    "  \n",
    "##########################################################################################################################\n",
    "def cpt_mouvements(db_labels):\n",
    "  cpt = [0, 0, 0, 0, 0, 0, 0, 0, 0, 0, 0, 0, 0, 0, 0, 0]\n",
    "\n",
    "  for i in db_labels:\n",
    "    cpt[i] += 1\n",
    "  return cpt\n",
    "\n",
    "def cpt_mouvements_v2(db_labels):\n",
    "  cpt = [0, 0, 0, 0, 0, 0, 0, 0, 0, 0, 0, 0, 0, 0, 0, 0]\n",
    "\n",
    "  print(db_labels.shape)\n",
    "\n",
    "  for i in range(db_labels.shape[0]):\n",
    "    for j in range(db_labels.shape[1]):\n",
    "      if db_labels[i][j] == 1:\n",
    "          cpt[j] += 1\n",
    "  return cpt\n",
    "\n",
    "def affich_mouvements(db_labels):\n",
    "  total = 0  \n",
    "  cpt = cpt_mouvements_v2(db_labels)\n",
    "\n",
    "  for j in range(len(cpt)):\n",
    "    if cpt[j] > 0:\n",
    "      total += cpt[j]\n",
    "      print(\"> mouvement \"+str(j)+ \" : \" + str(cpt[j]))\n",
    "  print(\"> Le nombre total d'echantillons : \" + str(total) )    \n"
   ]
  },
  {
   "cell_type": "code",
   "execution_count": 3,
   "metadata": {
    "executionInfo": {
     "elapsed": 499,
     "status": "ok",
     "timestamp": 1632432894668,
     "user": {
      "displayName": "EMG hand gesture Recognition system",
      "photoUrl": "https://lh3.googleusercontent.com/a/default-user=s64",
      "userId": "16267807696113233248"
     },
     "user_tz": -60
    },
    "id": "GrzBAEA364yA"
   },
   "outputs": [],
   "source": [
    "def creat_dataset(emg, restimulus, debut, fin, window = 300, window_inc = 300, ratio = (2/3)): #\n",
    "  ### Signals ### \n",
    "  data_set = []\n",
    "  ### labels ### \n",
    "  cpt_mouvements= 0\n",
    "  select_val = int((window * ratio))  ##########################################\n",
    "  labels_list = []\n",
    "  current_mouv = 0\n",
    "              ########################### \n",
    "  for pose in range(len(debut)) : \n",
    "\n",
    "    train_signals, train_labels = get_signals_info(emg, restimulus, debut[pose], fin[pose])\n",
    "      \n",
    "    for i in range(int((fin[pose]-debut[pose])/window_inc)):\n",
    "      startL = i * window_inc\n",
    "      endL = startL + window\n",
    "      if endL > (fin[pose]-debut[pose]):\n",
    "        break;\n",
    "      else:\n",
    "\n",
    "        ### labels ###\n",
    "        for j in range(startL, endL):\n",
    "          if train_labels[j] > 0:\n",
    "            if train_labels[j] > current_mouv:\n",
    "                current_mouv = train_labels[j]\n",
    "                cpt_mouvements = 1\n",
    "            elif int(train_labels[j]) == int(current_mouv):\n",
    "                cpt_mouvements += 1\n",
    "        if cpt_mouvements > select_val:\n",
    "                if current_mouv > 9:\n",
    "                   labels_list.append(current_mouv-2)\n",
    "                else:\n",
    "                  labels_list.append(current_mouv)\n",
    "\n",
    "                ### Signals ###\n",
    "                data_set.append(train_signals[startL:endL])           \n",
    "        elif cpt_mouvements == 0:\n",
    "                labels_list.append(0)\n",
    "                ### Signals ###\n",
    "                data_set.append(train_signals[startL:endL])\n",
    "                \n",
    "        cpt_mouvements = 0\n",
    "        current_mouv = 0\n",
    "\n",
    "  return data_set, labels_list\n",
    "\n",
    "def remouve_mouves(train_data,train_labels,test_data,test_labels):\n",
    "\n",
    "    cpt_train = cpt_mouvements(train_labels)\n",
    "    cpt_test = cpt_mouvements(test_labels)\n",
    "\n",
    "\n",
    "    train_mean = int(stat.mean(cpt_train[1:16]))\n",
    "    test_mean = int(stat.mean(cpt_test[1:16]))\n",
    "\n",
    "    for i in range(len(cpt_train)):\n",
    "\n",
    "      to_remove_train = cpt_train[i] - int(train_mean)\n",
    "      to_remove_test = cpt_test[i] - int(test_mean)\n",
    "\n",
    "      if to_remove_train > 0:  \n",
    "        zeros_list = get_index_list(train_labels, i)\n",
    "        zeros_toremove = random.sample(list(zeros_list), to_remove_train)\n",
    "\n",
    "        train_labels = np.delete(train_labels, zeros_toremove, axis=0)\n",
    "        train_data = np.delete(train_data, zeros_toremove, axis=0)\n",
    "\n",
    "      if to_remove_test > 0:\n",
    "        zeros_list = get_index_list(test_labels, i)\n",
    "        zeros_toremove = random.sample(list(zeros_list), to_remove_test)\n",
    "\n",
    "        test_labels = np.delete(test_labels, zeros_toremove, axis=0)\n",
    "        test_data = np.delete(test_data, zeros_toremove, axis=0)\n",
    "    \n",
    "    return train_data,train_labels,test_data,test_labels\n"
   ]
  },
  {
   "cell_type": "code",
   "execution_count": 4,
   "metadata": {
    "executionInfo": {
     "elapsed": 6,
     "status": "ok",
     "timestamp": 1632432894668,
     "user": {
      "displayName": "EMG hand gesture Recognition system",
      "photoUrl": "https://lh3.googleusercontent.com/a/default-user=s64",
      "userId": "16267807696113233248"
     },
     "user_tz": -60
    },
    "id": "qnDUi7XzjrNi"
   },
   "outputs": [],
   "source": [
    "def dataset_normalize(train_data, test_data):\n",
    "\n",
    "  train_data = np.array(train_data)\n",
    "  test_data = np.array(test_data)\n",
    "\n",
    "  train_x = train_data.shape[0]\n",
    "  train_y = train_data.shape[1]\n",
    "  train_z = train_data.shape[2]\n",
    "\n",
    "  test_x = test_data.shape[0]\n",
    "  test_y = test_data.shape[1]\n",
    "  test_z = test_data.shape[2]\n",
    "\n",
    "  train_data = train_data.reshape(train_x*train_y, train_z)\n",
    "  test_data = test_data.reshape(test_x*test_y, test_z)\n",
    "\n",
    "  scaler = StandardScaler(with_mean=True, with_std=True).fit(train_data)\n",
    "  \n",
    "  train_N = scaler.transform(train_data)\n",
    "  test_N = scaler.transform(test_data)\n",
    "\n",
    "  train_N = train_N.reshape(train_x, train_y, train_z)\n",
    "  test_N = test_N.reshape(test_x, test_y, test_z)\n",
    "  return train_N, test_N"
   ]
  },
  {
   "cell_type": "code",
   "execution_count": 5,
   "metadata": {
    "executionInfo": {
     "elapsed": 8,
     "status": "ok",
     "timestamp": 1632432894174,
     "user": {
      "displayName": "EMG hand gesture Recognition system",
      "photoUrl": "https://lh3.googleusercontent.com/a/default-user=s64",
      "userId": "16267807696113233248"
     },
     "user_tz": -60
    },
    "id": "f5RFoJHhPese"
   },
   "outputs": [],
   "source": [
    "#Determiner le debut et la fin de chaque repetition pour chaque mouvement \n",
    "def get_labels_interv(rerepitition):\n",
    "  rerepitition = np.squeeze(rerepitition)\n",
    "  global_labels = []\n",
    "  local_labels = [0]\n",
    "  mouvement = 1\n",
    "  cpt = 0\n",
    "  for i in range(len(rerepitition)):\n",
    "    if rerepitition[i] == 0:\n",
    "      local_labels.append(i)\n",
    "      global_labels.append(local_labels)\n",
    "      cpt = 0\n",
    "      break\n",
    "    elif rerepitition[i] != mouvement:\n",
    "      cpt += 1\n",
    "      local_labels.append(i)\n",
    "      mouvement = rerepitition[i]\n",
    "      if mouvement == 1 and cpt == 6:\n",
    "        global_labels.append(local_labels)\n",
    "        local_labels = [i]                            \n",
    "        cpt = 0\n",
    "  return global_labels"
   ]
  },
  {
   "cell_type": "code",
   "execution_count": 6,
   "metadata": {
    "executionInfo": {
     "elapsed": 7,
     "status": "ok",
     "timestamp": 1632432894174,
     "user": {
      "displayName": "EMG hand gesture Recognition system",
      "photoUrl": "https://lh3.googleusercontent.com/a/default-user=s64",
      "userId": "16267807696113233248"
     },
     "user_tz": -60
    },
    "id": "VyJXajN4UZGk"
   },
   "outputs": [],
   "source": [
    "#L'intervalle d'etude\n",
    "def start_end_list(rerepetition= [], window= 300, rep_train = [1,2,4,6], rep_test = [3,5]):\n",
    "  global_labels = get_labels_interv(rerepetition)\n",
    "  train_debut = []\n",
    "  train_fin = []\n",
    "  test_debut = []\n",
    "  test_fin = []\n",
    "\n",
    "  for i in global_labels[:9]: \n",
    "    for j in rep_train:\n",
    "      train_debut.append(i[j-1])\n",
    "      fin = int((i[j]-i[j-1])/window)*window + i[j-1]\n",
    "      train_fin.append(fin)\n",
    "    for k in rep_test:\n",
    "      test_debut.append(i[k-1])\n",
    "      fin = int((i[k]-i[k-1])/window)*window + i[k-1]\n",
    "      test_fin.append(fin)\n",
    "    \n",
    "  for i in global_labels[11:]: \n",
    "    for j in rep_train:\n",
    "      train_debut.append(i[j-1])\n",
    "      fin = int((i[j]-i[j-1])/window)*window + i[j-1]\n",
    "      train_fin.append(fin)\n",
    "    for k in rep_test:\n",
    "      test_debut.append(i[k-1])\n",
    "      fin = int((i[k]-i[k-1])/window)*window + i[k-1]\n",
    "      test_fin.append(fin)\n",
    "\n",
    "  return train_debut,train_fin,test_debut,test_fin"
   ]
  },
  {
   "cell_type": "code",
   "execution_count": 7,
   "metadata": {
    "executionInfo": {
     "elapsed": 5,
     "status": "ok",
     "timestamp": 1632432894669,
     "user": {
      "displayName": "EMG hand gesture Recognition system",
      "photoUrl": "https://lh3.googleusercontent.com/a/default-user=s64",
      "userId": "16267807696113233248"
     },
     "user_tz": -60
    },
    "id": "iGNPYKODBBns"
   },
   "outputs": [],
   "source": [
    "def creation(filename, window = 300, window_inc = 300, ratio = (2/3)):\n",
    "  train_data = []\n",
    "  train_labels = []\n",
    "  test_data = []\n",
    "  test_labels = []\n",
    "  \n",
    "  for sujet in filename:\n",
    "    data = loadmat(sujet)\n",
    "    emg = data['emg']\n",
    "    restimulus = data['restimulus']\n",
    "    rerepetition = data['rerepetition']\n",
    "\n",
    "    train_debut,train_fin,test_debut,test_fin = start_end_list(rerepetition, window= window)\n",
    "\n",
    "    trainX, trainY = creat_dataset(emg = emg, restimulus = restimulus, debut = train_debut, fin = train_fin, window = window, window_inc = window_inc, ratio = ratio )\n",
    "    testX, testY = creat_dataset(emg = emg, restimulus = restimulus, debut = test_debut, fin = test_fin, window = window, window_inc = window_inc, ratio = ratio)\n",
    "\n",
    "    train_data.extend(trainX)\n",
    "    train_labels.extend(trainY)\n",
    "    test_data.extend(testX)\n",
    "    test_labels.extend(testY)\n",
    "\n",
    "  ### Signals ### \n",
    "  train_data = np.array(train_data)\n",
    "  test_data = np.array(test_data)\n",
    "  ### labels ###      \n",
    "  train_labels = np.array(train_labels)\n",
    "  test_labels = np.array(test_labels)\n",
    "\n",
    "  train_data,train_labels,test_data,test_labels = remouve_mouves(train_data,train_labels,test_data,test_labels)\n",
    "\n",
    "\n",
    "  train_labels = to_categorical(train_labels) \n",
    "  test_labels = to_categorical(test_labels)\n",
    "\n",
    "  return train_data,train_labels,test_data,test_labels"
   ]
  },
  {
   "cell_type": "code",
   "execution_count": 12,
   "metadata": {
    "executionInfo": {
     "elapsed": 15448,
     "status": "ok",
     "timestamp": 1632432910113,
     "user": {
      "displayName": "EMG hand gesture Recognition system",
      "photoUrl": "https://lh3.googleusercontent.com/a/default-user=s64",
      "userId": "16267807696113233248"
     },
     "user_tz": -60
    },
    "id": "SzhbIxeDmvch"
   },
   "outputs": [
    {
     "ename": "error",
     "evalue": "Error -3 while decompressing data: invalid block type",
     "output_type": "error",
     "traceback": [
      "\u001b[1;31m---------------------------------------------------------------------------\u001b[0m",
      "\u001b[1;31merror\u001b[0m                                     Traceback (most recent call last)",
      "Cell \u001b[1;32mIn[12], line 8\u001b[0m\n\u001b[0;32m      5\u001b[0m subject_file \u001b[38;5;241m=\u001b[39m \u001b[38;5;124mf\u001b[39m\u001b[38;5;124m\"\u001b[39m\u001b[38;5;124mS\u001b[39m\u001b[38;5;132;01m{\u001b[39;00mi\u001b[38;5;132;01m}\u001b[39;00m\u001b[38;5;124m_E1_A1.mat\u001b[39m\u001b[38;5;124m\"\u001b[39m  \u001b[38;5;66;03m# File name (e.g., S1_E1_A1.mat)\u001b[39;00m\n\u001b[0;32m      7\u001b[0m input_path \u001b[38;5;241m=\u001b[39m \u001b[38;5;124mfr\u001b[39m\u001b[38;5;124m\"\u001b[39m\u001b[38;5;124mD:\u001b[39m\u001b[38;5;124m\\\u001b[39m\u001b[38;5;124mTransformer-Based-approach-for-hand-gesture-recognition-through-EMG-signals\u001b[39m\u001b[38;5;124m\\\u001b[39m\u001b[38;5;124mDB2\u001b[39m\u001b[38;5;124m\\\u001b[39m\u001b[38;5;124mdata\u001b[39m\u001b[38;5;124m\\\u001b[39m\u001b[38;5;124mdataset\u001b[39m\u001b[38;5;124m\\\u001b[39m\u001b[38;5;132;01m{\u001b[39;00msubject_file\u001b[38;5;132;01m}\u001b[39;00m\u001b[38;5;124m\"\u001b[39m\n\u001b[1;32m----> 8\u001b[0m train_data, train_labels, test_data, test_labels \u001b[38;5;241m=\u001b[39m \u001b[43mcreation\u001b[49m\u001b[43m(\u001b[49m\u001b[43mfilename\u001b[49m\u001b[38;5;241;43m=\u001b[39;49m\u001b[43m[\u001b[49m\u001b[43minput_path\u001b[49m\u001b[43m]\u001b[49m\u001b[43m,\u001b[49m\u001b[43m \u001b[49m\u001b[43mwindow\u001b[49m\u001b[38;5;241;43m=\u001b[39;49m\u001b[38;5;241;43m300\u001b[39;49m\u001b[43m,\u001b[49m\u001b[43m \u001b[49m\u001b[43mwindow_inc\u001b[49m\u001b[38;5;241;43m=\u001b[39;49m\u001b[38;5;241;43m200\u001b[39;49m\u001b[43m)\u001b[49m\n\u001b[0;32m     10\u001b[0m output_path \u001b[38;5;241m=\u001b[39m \u001b[38;5;124mfr\u001b[39m\u001b[38;5;124m\"\u001b[39m\u001b[38;5;124mD:\u001b[39m\u001b[38;5;124m\\\u001b[39m\u001b[38;5;124mTransformer-Based-approach-for-hand-gesture-recognition-through-EMG-signals\u001b[39m\u001b[38;5;124m\\\u001b[39m\u001b[38;5;124mDB2\u001b[39m\u001b[38;5;124m\\\u001b[39m\u001b[38;5;124mdata\u001b[39m\u001b[38;5;124m\\\u001b[39m\u001b[38;5;124mprerocessed_data\u001b[39m\u001b[38;5;124m\\\u001b[39m\u001b[38;5;124mDB2_s\u001b[39m\u001b[38;5;132;01m{\u001b[39;00mi\u001b[38;5;132;01m}\u001b[39;00m\u001b[38;5;124m_E1_A1_150_100.mat\u001b[39m\u001b[38;5;124m\"\u001b[39m\n\u001b[0;32m     11\u001b[0m new_data \u001b[38;5;241m=\u001b[39m {\u001b[38;5;124m'\u001b[39m\u001b[38;5;124mtrain_data\u001b[39m\u001b[38;5;124m'\u001b[39m: train_data, \u001b[38;5;124m'\u001b[39m\u001b[38;5;124mtrain_labels\u001b[39m\u001b[38;5;124m'\u001b[39m: train_labels, \u001b[38;5;124m'\u001b[39m\u001b[38;5;124mtest_data\u001b[39m\u001b[38;5;124m'\u001b[39m: test_data, \u001b[38;5;124m'\u001b[39m\u001b[38;5;124mtest_labels\u001b[39m\u001b[38;5;124m'\u001b[39m: test_labels}\n",
      "Cell \u001b[1;32mIn[7], line 8\u001b[0m, in \u001b[0;36mcreation\u001b[1;34m(filename, window, window_inc, ratio)\u001b[0m\n\u001b[0;32m      5\u001b[0m test_labels \u001b[38;5;241m=\u001b[39m []\n\u001b[0;32m      7\u001b[0m \u001b[38;5;28;01mfor\u001b[39;00m sujet \u001b[38;5;129;01min\u001b[39;00m filename:\n\u001b[1;32m----> 8\u001b[0m   data \u001b[38;5;241m=\u001b[39m \u001b[43mloadmat\u001b[49m\u001b[43m(\u001b[49m\u001b[43msujet\u001b[49m\u001b[43m)\u001b[49m\n\u001b[0;32m      9\u001b[0m   emg \u001b[38;5;241m=\u001b[39m data[\u001b[38;5;124m'\u001b[39m\u001b[38;5;124memg\u001b[39m\u001b[38;5;124m'\u001b[39m]\n\u001b[0;32m     10\u001b[0m   restimulus \u001b[38;5;241m=\u001b[39m data[\u001b[38;5;124m'\u001b[39m\u001b[38;5;124mrestimulus\u001b[39m\u001b[38;5;124m'\u001b[39m]\n",
      "File \u001b[1;32md:\\anaconda\\Lib\\site-packages\\scipy\\io\\matlab\\_mio.py:227\u001b[0m, in \u001b[0;36mloadmat\u001b[1;34m(file_name, mdict, appendmat, **kwargs)\u001b[0m\n\u001b[0;32m    225\u001b[0m \u001b[38;5;28;01mwith\u001b[39;00m _open_file_context(file_name, appendmat) \u001b[38;5;28;01mas\u001b[39;00m f:\n\u001b[0;32m    226\u001b[0m     MR, _ \u001b[38;5;241m=\u001b[39m mat_reader_factory(f, \u001b[38;5;241m*\u001b[39m\u001b[38;5;241m*\u001b[39mkwargs)\n\u001b[1;32m--> 227\u001b[0m     matfile_dict \u001b[38;5;241m=\u001b[39m \u001b[43mMR\u001b[49m\u001b[38;5;241;43m.\u001b[39;49m\u001b[43mget_variables\u001b[49m\u001b[43m(\u001b[49m\u001b[43mvariable_names\u001b[49m\u001b[43m)\u001b[49m\n\u001b[0;32m    229\u001b[0m \u001b[38;5;28;01mif\u001b[39;00m mdict \u001b[38;5;129;01mis\u001b[39;00m \u001b[38;5;129;01mnot\u001b[39;00m \u001b[38;5;28;01mNone\u001b[39;00m:\n\u001b[0;32m    230\u001b[0m     mdict\u001b[38;5;241m.\u001b[39mupdate(matfile_dict)\n",
      "File \u001b[1;32md:\\anaconda\\Lib\\site-packages\\scipy\\io\\matlab\\_mio5.py:311\u001b[0m, in \u001b[0;36mMatFile5Reader.get_variables\u001b[1;34m(self, variable_names)\u001b[0m\n\u001b[0;32m    309\u001b[0m mdict[\u001b[38;5;124m'\u001b[39m\u001b[38;5;124m__globals__\u001b[39m\u001b[38;5;124m'\u001b[39m] \u001b[38;5;241m=\u001b[39m []\n\u001b[0;32m    310\u001b[0m \u001b[38;5;28;01mwhile\u001b[39;00m \u001b[38;5;129;01mnot\u001b[39;00m \u001b[38;5;28mself\u001b[39m\u001b[38;5;241m.\u001b[39mend_of_stream():\n\u001b[1;32m--> 311\u001b[0m     hdr, next_position \u001b[38;5;241m=\u001b[39m \u001b[38;5;28;43mself\u001b[39;49m\u001b[38;5;241;43m.\u001b[39;49m\u001b[43mread_var_header\u001b[49m\u001b[43m(\u001b[49m\u001b[43m)\u001b[49m\n\u001b[0;32m    312\u001b[0m     name \u001b[38;5;241m=\u001b[39m \u001b[38;5;124m'\u001b[39m\u001b[38;5;124mNone\u001b[39m\u001b[38;5;124m'\u001b[39m \u001b[38;5;28;01mif\u001b[39;00m hdr\u001b[38;5;241m.\u001b[39mname \u001b[38;5;129;01mis\u001b[39;00m \u001b[38;5;28;01mNone\u001b[39;00m \u001b[38;5;28;01melse\u001b[39;00m hdr\u001b[38;5;241m.\u001b[39mname\u001b[38;5;241m.\u001b[39mdecode(\u001b[38;5;124m'\u001b[39m\u001b[38;5;124mlatin1\u001b[39m\u001b[38;5;124m'\u001b[39m)\n\u001b[0;32m    313\u001b[0m     \u001b[38;5;28;01mif\u001b[39;00m name \u001b[38;5;129;01min\u001b[39;00m mdict:\n",
      "File \u001b[1;32md:\\anaconda\\Lib\\site-packages\\scipy\\io\\matlab\\_mio5.py:265\u001b[0m, in \u001b[0;36mMatFile5Reader.read_var_header\u001b[1;34m(self)\u001b[0m\n\u001b[0;32m    263\u001b[0m     \u001b[38;5;28mself\u001b[39m\u001b[38;5;241m.\u001b[39m_matrix_reader\u001b[38;5;241m.\u001b[39mset_stream(stream)\n\u001b[0;32m    264\u001b[0m     check_stream_limit \u001b[38;5;241m=\u001b[39m \u001b[38;5;28mself\u001b[39m\u001b[38;5;241m.\u001b[39mverify_compressed_data_integrity\n\u001b[1;32m--> 265\u001b[0m     mdtype, byte_count \u001b[38;5;241m=\u001b[39m \u001b[38;5;28;43mself\u001b[39;49m\u001b[38;5;241;43m.\u001b[39;49m\u001b[43m_matrix_reader\u001b[49m\u001b[38;5;241;43m.\u001b[39;49m\u001b[43mread_full_tag\u001b[49m\u001b[43m(\u001b[49m\u001b[43m)\u001b[49m\n\u001b[0;32m    266\u001b[0m \u001b[38;5;28;01melse\u001b[39;00m:\n\u001b[0;32m    267\u001b[0m     check_stream_limit \u001b[38;5;241m=\u001b[39m \u001b[38;5;28;01mFalse\u001b[39;00m\n",
      "File \u001b[1;32m_mio5_utils.pyx:543\u001b[0m, in \u001b[0;36mscipy.io.matlab._mio5_utils.VarReader5.read_full_tag\u001b[1;34m()\u001b[0m\n",
      "File \u001b[1;32m_mio5_utils.pyx:551\u001b[0m, in \u001b[0;36mscipy.io.matlab._mio5_utils.VarReader5.cread_full_tag\u001b[1;34m()\u001b[0m\n",
      "File \u001b[1;32m_streams.pyx:147\u001b[0m, in \u001b[0;36mscipy.io.matlab._streams.ZlibInputStream.read_into\u001b[1;34m()\u001b[0m\n",
      "File \u001b[1;32m_streams.pyx:134\u001b[0m, in \u001b[0;36mscipy.io.matlab._streams.ZlibInputStream._fill_buffer\u001b[1;34m()\u001b[0m\n",
      "\u001b[1;31merror\u001b[0m: Error -3 while decompressing data: invalid block type"
     ]
    }
   ],
   "source": [
    "############# Creation du Dataset ########\n",
    "Subjects = []\n",
    "for i in range(1, 41):  # Looping through DB3_s1 to DB3_s11\n",
    "    subject_folder = f\"DB3_s{i}\"  # Folder name (e.g., DB3_s1)\n",
    "    subject_file = f\"S{i}_E1_A1.mat\"  # File name (e.g., S1_E1_A1.mat)\n",
    "    \n",
    "    input_path = fr\"D:\\Transformer-Based-approach-for-hand-gesture-recognition-through-EMG-signals\\DB2\\data\\dataset\\{subject_file}\"\n",
    "    train_data, train_labels, test_data, test_labels = creation(filename=[input_path], window=300, window_inc=200)\n",
    "\n",
    "    output_path = fr\"D:\\Transformer-Based-approach-for-hand-gesture-recognition-through-EMG-signals\\DB2\\data\\prerocessed_data\\DB2_s{i}_E1_A1_150_100.mat\"\n",
    "    new_data = {'train_data': train_data, 'train_labels': train_labels, 'test_data': test_data, 'test_labels': test_labels}\n",
    "    savemat(output_path, new_data)\n"
   ]
  },
  {
   "cell_type": "code",
   "execution_count": 9,
   "metadata": {
    "executionInfo": {
     "elapsed": 5,
     "status": "ok",
     "timestamp": 1632432894669,
     "user": {
      "displayName": "EMG hand gesture Recognition system",
      "photoUrl": "https://lh3.googleusercontent.com/a/default-user=s64",
      "userId": "16267807696113233248"
     },
     "user_tz": -60
    },
    "id": "nFFpFuWujvev"
   },
   "outputs": [],
   "source": [
    "def create_normalized_dataset(filename):\n",
    "\n",
    "    data = loadmat(r\"\"+ filename +\"\")\n",
    "    train_data = data['train_data']\n",
    "    test_data  = data['test_data']\n",
    "\n",
    "    train_N, test_N = dataset_normalize(train_data, test_data)\n",
    "    return train_N, data['train_labels'], test_N, data['test_labels']"
   ]
  },
  {
   "cell_type": "code",
   "execution_count": 10,
   "metadata": {
    "executionInfo": {
     "elapsed": 732,
     "status": "ok",
     "timestamp": 1632432910842,
     "user": {
      "displayName": "EMG hand gesture Recognition system",
      "photoUrl": "https://lh3.googleusercontent.com/a/default-user=s64",
      "userId": "16267807696113233248"
     },
     "user_tz": -60
    },
    "id": "umCjIg61j8Ls"
   },
   "outputs": [
    {
     "ename": "FileNotFoundError",
     "evalue": "[Errno 2] No such file or directory: 'D:\\\\Transformer-Based-approach-for-hand-gesture-recognition-through-EMG-signals\\\\DB2\\\\data\\\\prerocessed_data\\\\DB2_s8_E1_A1_150_100.mat'",
     "output_type": "error",
     "traceback": [
      "\u001b[1;31m---------------------------------------------------------------------------\u001b[0m",
      "\u001b[1;31mFileNotFoundError\u001b[0m                         Traceback (most recent call last)",
      "File \u001b[1;32md:\\anaconda\\Lib\\site-packages\\scipy\\io\\matlab\\_mio.py:39\u001b[0m, in \u001b[0;36m_open_file\u001b[1;34m(file_like, appendmat, mode)\u001b[0m\n\u001b[0;32m     38\u001b[0m \u001b[38;5;28;01mtry\u001b[39;00m:\n\u001b[1;32m---> 39\u001b[0m     \u001b[38;5;28;01mreturn\u001b[39;00m \u001b[38;5;28;43mopen\u001b[39;49m\u001b[43m(\u001b[49m\u001b[43mfile_like\u001b[49m\u001b[43m,\u001b[49m\u001b[43m \u001b[49m\u001b[43mmode\u001b[49m\u001b[43m)\u001b[49m, \u001b[38;5;28;01mTrue\u001b[39;00m\n\u001b[0;32m     40\u001b[0m \u001b[38;5;28;01mexcept\u001b[39;00m \u001b[38;5;167;01mOSError\u001b[39;00m \u001b[38;5;28;01mas\u001b[39;00m e:\n\u001b[0;32m     41\u001b[0m     \u001b[38;5;66;03m# Probably \"not found\"\u001b[39;00m\n",
      "\u001b[1;31mFileNotFoundError\u001b[0m: [Errno 2] No such file or directory: 'D:\\\\Transformer-Based-approach-for-hand-gesture-recognition-through-EMG-signals\\\\DB2\\\\data\\\\prerocessed_data\\\\DB2_s8_E1_A1_150_100.mat'",
      "\nDuring handling of the above exception, another exception occurred:\n",
      "\u001b[1;31mFileNotFoundError\u001b[0m                         Traceback (most recent call last)",
      "Cell \u001b[1;32mIn[10], line 4\u001b[0m\n\u001b[0;32m      2\u001b[0m \u001b[38;5;28;01mfor\u001b[39;00m i \u001b[38;5;129;01min\u001b[39;00m \u001b[38;5;28mrange\u001b[39m(\u001b[38;5;241m1\u001b[39m, \u001b[38;5;241m41\u001b[39m):  \u001b[38;5;66;03m# Adjusted to match DB3_s1 to DB3_s11\u001b[39;00m\n\u001b[0;32m      3\u001b[0m     Subject \u001b[38;5;241m=\u001b[39m \u001b[38;5;124mfr\u001b[39m\u001b[38;5;124m\"\u001b[39m\u001b[38;5;124mD:\u001b[39m\u001b[38;5;124m\\\u001b[39m\u001b[38;5;124mTransformer-Based-approach-for-hand-gesture-recognition-through-EMG-signals\u001b[39m\u001b[38;5;124m\\\u001b[39m\u001b[38;5;124mDB2\u001b[39m\u001b[38;5;124m\\\u001b[39m\u001b[38;5;124mdata\u001b[39m\u001b[38;5;124m\\\u001b[39m\u001b[38;5;124mprerocessed_data\u001b[39m\u001b[38;5;124m\\\u001b[39m\u001b[38;5;124mDB2_s\u001b[39m\u001b[38;5;132;01m{\u001b[39;00mi\u001b[38;5;132;01m}\u001b[39;00m\u001b[38;5;124m_E1_A1_150_100.mat\u001b[39m\u001b[38;5;124m\"\u001b[39m\n\u001b[1;32m----> 4\u001b[0m     train_N, train_labels, test_N, test_labels \u001b[38;5;241m=\u001b[39m \u001b[43mcreate_normalized_dataset\u001b[49m\u001b[43m(\u001b[49m\u001b[43mSubject\u001b[49m\u001b[43m)\u001b[49m\n\u001b[0;32m      6\u001b[0m     output_path \u001b[38;5;241m=\u001b[39m \u001b[38;5;124mfr\u001b[39m\u001b[38;5;124m\"\u001b[39m\u001b[38;5;124mD:\u001b[39m\u001b[38;5;124m\\\u001b[39m\u001b[38;5;124mTransformer-Based-approach-for-hand-gesture-recognition-through-EMG-signals\u001b[39m\u001b[38;5;124m\\\u001b[39m\u001b[38;5;124mDB2\u001b[39m\u001b[38;5;124m\\\u001b[39m\u001b[38;5;124mdata\u001b[39m\u001b[38;5;124m\\\u001b[39m\u001b[38;5;124mnormalized_data\u001b[39m\u001b[38;5;124m\\\u001b[39m\u001b[38;5;124mDB2_s\u001b[39m\u001b[38;5;132;01m{\u001b[39;00mi\u001b[38;5;132;01m}\u001b[39;00m\u001b[38;5;124m_E1_A1_150_100_N.mat\u001b[39m\u001b[38;5;124m\"\u001b[39m\n\u001b[0;32m      7\u001b[0m     new_data \u001b[38;5;241m=\u001b[39m {\u001b[38;5;124m'\u001b[39m\u001b[38;5;124mtrain_data\u001b[39m\u001b[38;5;124m'\u001b[39m: train_N, \u001b[38;5;124m'\u001b[39m\u001b[38;5;124mtrain_labels\u001b[39m\u001b[38;5;124m'\u001b[39m: train_labels, \u001b[38;5;124m'\u001b[39m\u001b[38;5;124mtest_data\u001b[39m\u001b[38;5;124m'\u001b[39m: test_N, \u001b[38;5;124m'\u001b[39m\u001b[38;5;124mtest_labels\u001b[39m\u001b[38;5;124m'\u001b[39m: test_labels}\n",
      "Cell \u001b[1;32mIn[9], line 3\u001b[0m, in \u001b[0;36mcreate_normalized_dataset\u001b[1;34m(filename)\u001b[0m\n\u001b[0;32m      1\u001b[0m \u001b[38;5;28;01mdef\u001b[39;00m \u001b[38;5;21mcreate_normalized_dataset\u001b[39m(filename):\n\u001b[1;32m----> 3\u001b[0m     data \u001b[38;5;241m=\u001b[39m \u001b[43mloadmat\u001b[49m\u001b[43m(\u001b[49m\u001b[38;5;124;43mr\u001b[39;49m\u001b[38;5;124;43m\"\u001b[39;49m\u001b[38;5;124;43m\"\u001b[39;49m\u001b[38;5;241;43m+\u001b[39;49m\u001b[43m \u001b[49m\u001b[43mfilename\u001b[49m\u001b[43m \u001b[49m\u001b[38;5;241;43m+\u001b[39;49m\u001b[38;5;124;43m\"\u001b[39;49m\u001b[38;5;124;43m\"\u001b[39;49m\u001b[43m)\u001b[49m\n\u001b[0;32m      4\u001b[0m     train_data \u001b[38;5;241m=\u001b[39m data[\u001b[38;5;124m'\u001b[39m\u001b[38;5;124mtrain_data\u001b[39m\u001b[38;5;124m'\u001b[39m]\n\u001b[0;32m      5\u001b[0m     test_data  \u001b[38;5;241m=\u001b[39m data[\u001b[38;5;124m'\u001b[39m\u001b[38;5;124mtest_data\u001b[39m\u001b[38;5;124m'\u001b[39m]\n",
      "File \u001b[1;32md:\\anaconda\\Lib\\site-packages\\scipy\\io\\matlab\\_mio.py:225\u001b[0m, in \u001b[0;36mloadmat\u001b[1;34m(file_name, mdict, appendmat, **kwargs)\u001b[0m\n\u001b[0;32m     88\u001b[0m \u001b[38;5;250m\u001b[39m\u001b[38;5;124;03m\"\"\"\u001b[39;00m\n\u001b[0;32m     89\u001b[0m \u001b[38;5;124;03mLoad MATLAB file.\u001b[39;00m\n\u001b[0;32m     90\u001b[0m \n\u001b[1;32m   (...)\u001b[0m\n\u001b[0;32m    222\u001b[0m \u001b[38;5;124;03m    3.14159265+3.14159265j])\u001b[39;00m\n\u001b[0;32m    223\u001b[0m \u001b[38;5;124;03m\"\"\"\u001b[39;00m\n\u001b[0;32m    224\u001b[0m variable_names \u001b[38;5;241m=\u001b[39m kwargs\u001b[38;5;241m.\u001b[39mpop(\u001b[38;5;124m'\u001b[39m\u001b[38;5;124mvariable_names\u001b[39m\u001b[38;5;124m'\u001b[39m, \u001b[38;5;28;01mNone\u001b[39;00m)\n\u001b[1;32m--> 225\u001b[0m \u001b[38;5;28;01mwith\u001b[39;00m _open_file_context(file_name, appendmat) \u001b[38;5;28;01mas\u001b[39;00m f:\n\u001b[0;32m    226\u001b[0m     MR, _ \u001b[38;5;241m=\u001b[39m mat_reader_factory(f, \u001b[38;5;241m*\u001b[39m\u001b[38;5;241m*\u001b[39mkwargs)\n\u001b[0;32m    227\u001b[0m     matfile_dict \u001b[38;5;241m=\u001b[39m MR\u001b[38;5;241m.\u001b[39mget_variables(variable_names)\n",
      "File \u001b[1;32md:\\anaconda\\Lib\\contextlib.py:137\u001b[0m, in \u001b[0;36m_GeneratorContextManager.__enter__\u001b[1;34m(self)\u001b[0m\n\u001b[0;32m    135\u001b[0m \u001b[38;5;28;01mdel\u001b[39;00m \u001b[38;5;28mself\u001b[39m\u001b[38;5;241m.\u001b[39margs, \u001b[38;5;28mself\u001b[39m\u001b[38;5;241m.\u001b[39mkwds, \u001b[38;5;28mself\u001b[39m\u001b[38;5;241m.\u001b[39mfunc\n\u001b[0;32m    136\u001b[0m \u001b[38;5;28;01mtry\u001b[39;00m:\n\u001b[1;32m--> 137\u001b[0m     \u001b[38;5;28;01mreturn\u001b[39;00m \u001b[38;5;28;43mnext\u001b[39;49m\u001b[43m(\u001b[49m\u001b[38;5;28;43mself\u001b[39;49m\u001b[38;5;241;43m.\u001b[39;49m\u001b[43mgen\u001b[49m\u001b[43m)\u001b[49m\n\u001b[0;32m    138\u001b[0m \u001b[38;5;28;01mexcept\u001b[39;00m \u001b[38;5;167;01mStopIteration\u001b[39;00m:\n\u001b[0;32m    139\u001b[0m     \u001b[38;5;28;01mraise\u001b[39;00m \u001b[38;5;167;01mRuntimeError\u001b[39;00m(\u001b[38;5;124m\"\u001b[39m\u001b[38;5;124mgenerator didn\u001b[39m\u001b[38;5;124m'\u001b[39m\u001b[38;5;124mt yield\u001b[39m\u001b[38;5;124m\"\u001b[39m) \u001b[38;5;28;01mfrom\u001b[39;00m \u001b[38;5;28;01mNone\u001b[39;00m\n",
      "File \u001b[1;32md:\\anaconda\\Lib\\site-packages\\scipy\\io\\matlab\\_mio.py:17\u001b[0m, in \u001b[0;36m_open_file_context\u001b[1;34m(file_like, appendmat, mode)\u001b[0m\n\u001b[0;32m     15\u001b[0m \u001b[38;5;129m@contextmanager\u001b[39m\n\u001b[0;32m     16\u001b[0m \u001b[38;5;28;01mdef\u001b[39;00m \u001b[38;5;21m_open_file_context\u001b[39m(file_like, appendmat, mode\u001b[38;5;241m=\u001b[39m\u001b[38;5;124m'\u001b[39m\u001b[38;5;124mrb\u001b[39m\u001b[38;5;124m'\u001b[39m):\n\u001b[1;32m---> 17\u001b[0m     f, opened \u001b[38;5;241m=\u001b[39m \u001b[43m_open_file\u001b[49m\u001b[43m(\u001b[49m\u001b[43mfile_like\u001b[49m\u001b[43m,\u001b[49m\u001b[43m \u001b[49m\u001b[43mappendmat\u001b[49m\u001b[43m,\u001b[49m\u001b[43m \u001b[49m\u001b[43mmode\u001b[49m\u001b[43m)\u001b[49m\n\u001b[0;32m     18\u001b[0m     \u001b[38;5;28;01mtry\u001b[39;00m:\n\u001b[0;32m     19\u001b[0m         \u001b[38;5;28;01myield\u001b[39;00m f\n",
      "File \u001b[1;32md:\\anaconda\\Lib\\site-packages\\scipy\\io\\matlab\\_mio.py:45\u001b[0m, in \u001b[0;36m_open_file\u001b[1;34m(file_like, appendmat, mode)\u001b[0m\n\u001b[0;32m     43\u001b[0m     \u001b[38;5;28;01mif\u001b[39;00m appendmat \u001b[38;5;129;01mand\u001b[39;00m \u001b[38;5;129;01mnot\u001b[39;00m file_like\u001b[38;5;241m.\u001b[39mendswith(\u001b[38;5;124m'\u001b[39m\u001b[38;5;124m.mat\u001b[39m\u001b[38;5;124m'\u001b[39m):\n\u001b[0;32m     44\u001b[0m         file_like \u001b[38;5;241m+\u001b[39m\u001b[38;5;241m=\u001b[39m \u001b[38;5;124m'\u001b[39m\u001b[38;5;124m.mat\u001b[39m\u001b[38;5;124m'\u001b[39m\n\u001b[1;32m---> 45\u001b[0m     \u001b[38;5;28;01mreturn\u001b[39;00m \u001b[38;5;28;43mopen\u001b[39;49m\u001b[43m(\u001b[49m\u001b[43mfile_like\u001b[49m\u001b[43m,\u001b[49m\u001b[43m \u001b[49m\u001b[43mmode\u001b[49m\u001b[43m)\u001b[49m, \u001b[38;5;28;01mTrue\u001b[39;00m\n\u001b[0;32m     46\u001b[0m \u001b[38;5;28;01melse\u001b[39;00m:\n\u001b[0;32m     47\u001b[0m     \u001b[38;5;28;01mraise\u001b[39;00m \u001b[38;5;167;01mOSError\u001b[39;00m(\n\u001b[0;32m     48\u001b[0m         \u001b[38;5;124m'\u001b[39m\u001b[38;5;124mReader needs file name or open file-like object\u001b[39m\u001b[38;5;124m'\u001b[39m\n\u001b[0;32m     49\u001b[0m     ) \u001b[38;5;28;01mfrom\u001b[39;00m \u001b[38;5;21;01me\u001b[39;00m\n",
      "\u001b[1;31mFileNotFoundError\u001b[0m: [Errno 2] No such file or directory: 'D:\\\\Transformer-Based-approach-for-hand-gesture-recognition-through-EMG-signals\\\\DB2\\\\data\\\\prerocessed_data\\\\DB2_s8_E1_A1_150_100.mat'"
     ]
    }
   ],
   "source": [
    "############# Creation d'un dataset avec des données normalisées ########\n",
    "for i in range(1, 41):  # Adjusted to match DB3_s1 to DB3_s11\n",
    "    Subject = fr\"D:\\Transformer-Based-approach-for-hand-gesture-recognition-through-EMG-signals\\DB2\\data\\prerocessed_data\\DB2_s{i}_E1_A1_150_100.mat\"\n",
    "    train_N, train_labels, test_N, test_labels = create_normalized_dataset(Subject)\n",
    "\n",
    "    output_path = fr\"D:\\Transformer-Based-approach-for-hand-gesture-recognition-through-EMG-signals\\DB2\\data\\normalized_data\\DB2_s{i}_E1_A1_150_100_N.mat\"\n",
    "    new_data = {'train_data': train_N, 'train_labels': train_labels, 'test_data': test_N, 'test_labels': test_labels}\n",
    "    savemat(output_path, new_data)\n"
   ]
  }
 ],
 "metadata": {
  "colab": {
   "collapsed_sections": [],
   "name": "create_dataset_vf.ipynb",
   "provenance": []
  },
  "kernelspec": {
   "display_name": "base",
   "language": "python",
   "name": "python3"
  },
  "language_info": {
   "codemirror_mode": {
    "name": "ipython",
    "version": 3
   },
   "file_extension": ".py",
   "mimetype": "text/x-python",
   "name": "python",
   "nbconvert_exporter": "python",
   "pygments_lexer": "ipython3",
   "version": "3.12.7"
  }
 },
 "nbformat": 4,
 "nbformat_minor": 0
}
