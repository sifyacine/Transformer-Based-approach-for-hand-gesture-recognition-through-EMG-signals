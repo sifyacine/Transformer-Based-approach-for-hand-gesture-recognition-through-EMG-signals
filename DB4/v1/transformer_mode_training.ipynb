{
 "cells": [
  {
   "cell_type": "code",
   "execution_count": 2,
   "metadata": {
    "executionInfo": {
     "elapsed": 10700,
     "status": "ok",
     "timestamp": 1740935558777,
     "user": {
      "displayName": "MESSALIT Rayane",
      "userId": "11661623065229829427"
     },
     "user_tz": -60
    },
    "id": "NDD0aFN81E8t"
   },
   "outputs": [],
   "source": [
    "import time\n",
    "import numpy as np\n",
    "from numpy import mean, std, dstack\n",
    "import matplotlib.pyplot as plt\n",
    "from scipy.io import loadmat, savemat\n",
    "from mlxtend.plotting import plot_confusion_matrix\n",
    "from sklearn.metrics import confusion_matrix, matthews_corrcoef\n",
    "import tensorflow as tf\n",
    "from tensorflow.keras.models import Sequential\n",
    "from tensorflow.keras.layers import Dense, GlobalAveragePooling1D, Dropout, InputLayer\n",
    "from tensorflow.keras.callbacks import History\n",
    "from tensorflow.keras.optimizers import Adam\n",
    "from tensorflow.keras.utils import to_categorical\n",
    "from tensorflow.keras.layers import Layer\n",
    "import xlsxwriter\n",
    "from tensorflow.keras.regularizers import l2\n",
    "from keras import layers\n",
    "import keras\n",
    "from tensorflow.keras.layers import Dropout\n",
    "from tensorflow.keras.layers import BatchNormalization\n",
    "from tensorflow.keras.layers import Conv1D\n",
    "from tensorflow.keras.layers import MaxPooling1D"
   ]
  },
  {
   "cell_type": "code",
   "execution_count": 3,
   "metadata": {
    "executionInfo": {
     "elapsed": 21,
     "status": "ok",
     "timestamp": 1740935562052,
     "user": {
      "displayName": "MESSALIT Rayane",
      "userId": "11661623065229829427"
     },
     "user_tz": -60
    },
    "id": "nSDWRz6I1Up6"
   },
   "outputs": [],
   "source": [
    "class Time2Vec(Layer):\n",
    "    def __init__(self, kernel_size=1):\n",
    "        super(Time2Vec, self).__init__()\n",
    "        self.k = kernel_size\n",
    "\n",
    "    def build(self, input_shape):\n",
    "        self.w0 = self.add_weight(name=\"w0\", shape=(1,), initializer=\"uniform\", trainable=True)\n",
    "        self.b0 = self.add_weight(name=\"b0\", shape=(1,), initializer=\"uniform\", trainable=True)\n",
    "        self.w = self.add_weight(name=\"w\", shape=(input_shape[-1], self.k), initializer=\"uniform\", trainable=True)\n",
    "        self.b = self.add_weight(name=\"b\", shape=(self.k,), initializer=\"uniform\", trainable=True)\n",
    "\n",
    "    def call(self, inputs):\n",
    "        v1 = self.w0 * inputs + self.b0\n",
    "        v2 = tf.math.sin(tf.matmul(inputs, self.w) + self.b)\n",
    "        return tf.concat([v1, v2], axis=-1)"
   ]
  },
  {
   "cell_type": "code",
   "execution_count": 4,
   "metadata": {
    "executionInfo": {
     "elapsed": 39,
     "status": "ok",
     "timestamp": 1740935568171,
     "user": {
      "displayName": "MESSALIT Rayane",
      "userId": "11661623065229829427"
     },
     "user_tz": -60
    },
    "id": "rcZNJJT71YPc"
   },
   "outputs": [],
   "source": [
    "def transformer_encoder(inputs, head_size, num_heads, ff_dim, dropout=0):\n",
    "    # Attention and Normalization\n",
    "    x = layers.MultiHeadAttention(\n",
    "        key_dim=head_size, num_heads=num_heads, dropout=dropout\n",
    "    )(inputs, inputs)\n",
    "    x = layers.Dropout(dropout)(x)\n",
    "    x = layers.LayerNormalization(epsilon=1e-6)(x)\n",
    "    res = x + inputs\n",
    "\n",
    "    # Feed Forward Part\n",
    "    x = layers.Conv1D(filters=ff_dim, kernel_size=1, activation=\"relu\")(res)\n",
    "    x = layers.Dropout(dropout)(x)\n",
    "    x = layers.Conv1D(filters=inputs.shape[-1], kernel_size=1)(x)\n",
    "    x = layers.LayerNormalization(epsilon=1e-6)(x)\n",
    "    return x + res"
   ]
  },
  {
   "cell_type": "code",
   "execution_count": 5,
   "metadata": {
    "executionInfo": {
     "elapsed": 36,
     "status": "ok",
     "timestamp": 1740935572208,
     "user": {
      "displayName": "MESSALIT Rayane",
      "userId": "11661623065229829427"
     },
     "user_tz": -60
    },
    "id": "IOx-MEl_1boM"
   },
   "outputs": [],
   "source": [
    "def build_model(\n",
    "    input_shape,\n",
    "    head_size,\n",
    "    num_heads,\n",
    "    ff_dim,\n",
    "    num_classes,\n",
    "    num_transformer_blocks,\n",
    "    mlp_units,\n",
    "    dropout=0,\n",
    "    mlp_dropout=0,\n",
    "):\n",
    "    inputs = keras.Input(shape=input_shape)\n",
    "    x = layers.Conv1D(filters=64, kernel_size=8, activation='relu', bias_regularizer='l2')(inputs)\n",
    "    x = layers.MaxPooling1D(pool_size=17,strides=9)(x)\n",
    "    x = Dropout(0.3)(x)\n",
    "    x = layers.BatchNormalization()(x)\n",
    "\n",
    "    x = Time2Vec()(x)\n",
    "\n",
    "    for _ in range(num_transformer_blocks):\n",
    "        x = transformer_encoder(x, head_size, num_heads, ff_dim, dropout)\n",
    "\n",
    "    x = layers.GlobalAveragePooling1D(data_format=\"channels_last\")(x)\n",
    "    for dim in mlp_units:\n",
    "        x = layers.Dense(dim, activation=\"relu\")(x)\n",
    "        x = layers.Dropout(mlp_dropout)(x)\n",
    "    outputs = layers.Dense(num_classes, activation=\"softmax\")(x)\n",
    "    return keras.Model(inputs, outputs)\n"
   ]
  },
  {
   "cell_type": "code",
   "execution_count": null,
   "metadata": {
    "executionInfo": {
     "elapsed": 87,
     "status": "ok",
     "timestamp": 1740935577379,
     "user": {
      "displayName": "MESSALIT Rayane",
      "userId": "11661623065229829427"
     },
     "user_tz": -60
    },
    "id": "O7uffzV51eZ6"
   },
   "outputs": [],
   "source": [
    "def evaluate_model(trainX, trainy, testX, testy, sujet):\n",
    "    verbose, epochs, batch_size = 1, 200, 64\n",
    "    # Extract dimensions from training data:\n",
    "    n_timesteps = trainX.shape[1]\n",
    "    d_model= trainX.shape[2]  # This is 12 in your case\n",
    "    n_outputs = trainy.shape[1]\n",
    "\n",
    "    print(\"Train Data Shape:\", trainX.shape)  # (num_samples, sequence_length, 12)\n",
    "    print(\"Test Data Shape:\", testX.shape)\n",
    "\n",
    "    # Build the classifier model using the raw input dimension and then projecting internally.\n",
    "    model = build_model(\n",
    "       input_shape=(n_timesteps, d_model),\n",
    "       head_size=128,\n",
    "       num_heads=12,\n",
    "       num_classes=n_outputs,\n",
    "       ff_dim=24,\n",
    "       num_transformer_blocks=1,\n",
    "       mlp_units=[128],\n",
    "       mlp_dropout=0.4,\n",
    "       dropout=0.25,\n",
    "    )\n",
    "    model.summary()\n",
    "\n",
    "    # Compile the model with categorical crossentropy and Adam optimizer.\n",
    "    model.compile(loss='categorical_crossentropy',\n",
    "                  optimizer=Adam(learning_rate=0.0001),\n",
    "                  metrics=['accuracy'])\n",
    "\n",
    "\n",
    "    # Train the model\n",
    "    start = time.time()\n",
    "    model.fit(trainX, trainy, epochs=epochs, batch_size=batch_size, verbose=verbose, callbacks=[history])\n",
    "    train_time = time.time() - start  # seconds\n",
    "\n",
    "    # Save the model\n",
    "    model.save('D:\\Transformer-Based-approach-for-hand-gesture-recognition-through-EMG-signals\\DB4\\models\\Transformer_model_' + str(sujet) + '.h5')\n",
    "\n",
    "    # Evaluate on training data\n",
    "    loss_train, accuracy_train = model.evaluate(trainX, trainy, batch_size=batch_size, verbose=1)\n",
    "    start = time.time()\n",
    "    loss_test, accuracy_test = model.evaluate(testX, testy, batch_size=batch_size, verbose=1)\n",
    "    test_time = time.time() - start  # seconds\n",
    "\n",
    "    # Predict on test data and convert predictions to class indices\n",
    "    y_pred = np.argmax(model.predict(testX), axis=-1)\n",
    "    testy_indices = [np.argmax(y) for y in testy]\n",
    "\n",
    "    return loss_train, accuracy_train, loss_test, accuracy_test, y_pred, testy_indices, train_time, test_time\n",
    "\n",
    "\n",
    "def summarize_results(scores, losses):\n",
    "    m, s = mean(scores), std(scores)\n",
    "    mL, sL = mean(losses), std(losses)\n",
    "    print('\\nAccuracy: %.5f (+/-%.5f)' % (m, s))\n",
    "    print('Loss: %.5f (+/-%.5f)' % (mL, sL))\n",
    "\n",
    "def run_my_experiment(sujet):\n",
    "    # Load data from MATLAB file; update the path as needed.\n",
    "    data = loadmat(fr\"D:\\Transformer-Based-approach-for-hand-gesture-recognition-through-EMG-signals\\DB4\\data\\normalized_data\\DB4_s\" + str(sujet) + \"_E1_A1_150_100_N.mat\")\n",
    "\n",
    "    train_data = data['train_data']      # shape: (num_train_samples, sequence_length, d_model)\n",
    "    train_labels = data['train_labels']    # shape: (num_train_samples, num_classes)\n",
    "    test_data = data['test_data']          # shape: (num_test_samples, sequence_length, d_model)\n",
    "    test_labels = data['test_labels']      # shape: (num_test_samples, num_classes)\n",
    "\n",
    "    scores = list()\n",
    "    losses = list()\n",
    "\n",
    "    loss_train, score_train, loss_test, score_test, y_pred, testy, train_time, test_time = evaluate_model(\n",
    "        train_data, train_labels, test_data, test_labels, sujet\n",
    "    )\n",
    "\n",
    "    print('>#%d: ' % (sujet))\n",
    "    print('  train accuracy: %.5f' % (score_train))\n",
    "    print('  train loss    : %.5f' % (loss_train))\n",
    "    print('  test accuracy: %.5f' % (score_test))\n",
    "    print('  test loss    : %.5f' % (loss_test))\n",
    "    scores.append(score_test)\n",
    "    losses.append(loss_test)\n",
    "    summarize_results(scores, losses)\n",
    "\n",
    "    return loss_train, score_train, loss_test, score_test, y_pred, testy, train_time, test_time\n"
   ]
  },
  {
   "cell_type": "code",
   "execution_count": null,
   "metadata": {
    "colab": {
     "base_uri": "https://localhost:8080/",
     "height": 1000,
     "output_embedded_package_id": "1WjTpz7MSEpFtLFEwD12_YRZJOgJvWkF9"
    },
    "executionInfo": {
     "elapsed": 6836861,
     "status": "ok",
     "timestamp": 1740942427019,
     "user": {
      "displayName": "MESSALIT Rayane",
      "userId": "11661623065229829427"
     },
     "user_tz": -60
    },
    "id": "oQtpQuLL1hy3",
    "outputId": "ef808c8c-1d2b-4790-e52f-11bf08df664f"
   },
   "outputs": [
    {
     "data": {
      "text/plain": [
       "Output hidden; open in https://colab.research.google.com to view."
      ]
     },
     "metadata": {},
     "output_type": "display_data"
    }
   ],
   "source": [
    "\n",
    "# Main\n",
    "# ==============================================================================\n",
    "\n",
    "globel_perd = []\n",
    "globel_class = []\n",
    "\n",
    "globel_perd1 = []\n",
    "globel_class1 = []\n",
    "\n",
    "# Create a workbook and add a worksheet.\n",
    "workbook = xlsxwriter.Workbook(fr'D:\\Transformer-Based-approach-for-hand-gesture-recognition-through-EMG-signals\\DB4\\results\\v1\\xlsx\\Trans_DB4_rslt.xlsx')\n",
    "worksheet1 = workbook.add_worksheet('Subjects informations')\n",
    "\n",
    "# Start from the first cell. Rows and columns are zero indexed.\n",
    "row = 0\n",
    "\n",
    "worksheet1.write(row, 0, 'Subject')\n",
    "worksheet1.write(row, 1, 'Train_time')\n",
    "worksheet1.write(row, 2, 'Test_time')\n",
    "worksheet1.write(row, 3, 'Train_acc')\n",
    "worksheet1.write(row, 4, 'Train_loss')\n",
    "worksheet1.write(row, 5, 'Test_acc')\n",
    "worksheet1.write(row, 6, 'Test_loss')\n",
    "worksheet1.write(row, 7, 'MCC')\n",
    "\n",
    "history = History()\n",
    "for i in range(1, 41):\n",
    "    loss_train, score_train, loss_test, score_test, y_pred, testy, train_time, test_time = run_my_experiment(i)\n",
    "\n",
    "    globel_perd.append(y_pred)\n",
    "    globel_class.append(testy)\n",
    "\n",
    "    globel_perd1.extend(y_pred)\n",
    "    globel_class1.extend(testy)\n",
    "\n",
    "    mcc = matthews_corrcoef(testy, y_pred)\n",
    "    mat = confusion_matrix(testy, y_pred)\n",
    "\n",
    "    cfm_plot, ax = plot_confusion_matrix(mat, figsize=(10, 10), show_normed=True, show_absolute=False)\n",
    "    cfm_plot.savefig(fr'D:\\Transformer-Based-approach-for-hand-gesture-recognition-through-EMG-signals\\DB4\\results\\v1\\confusion_matrix\\DB4_s' + str(i) + 'trans_confusion_matrix.png')\n",
    "\n",
    "    fig, axarr = plt.subplots(figsize=(12, 6), ncols=1)\n",
    "    plot_renge = int(len(history.history['accuracy']) / i)\n",
    "    global_renge = len(history.history['accuracy'])\n",
    "    start_renge = global_renge - plot_renge\n",
    "    axarr.plot(range(plot_renge), history.history['accuracy'][start_renge: global_renge], label='train score')\n",
    "    axarr.plot(range(plot_renge), history.history['loss'][start_renge: global_renge], label='train loss')\n",
    "    axarr.set_xlabel('Number of Epochs', fontsize=18)\n",
    "    axarr.set_ylabel('Accuracy', fontsize=18)\n",
    "    axarr.set_ylim([0, 2.5])\n",
    "    plt.legend()\n",
    "    plt.show()\n",
    "    fig.savefig(fr'D:\\Transformer-Based-approach-for-hand-gesture-recognition-through-EMG-signals\\DB4\\results\\v1\\graphs\\DB4_s' + str(i) + 'trans_graphe.png')\n",
    "\n",
    "    # Sheet informations\n",
    "    worksheet1.write(i, 0, 'Sujet ' + str(i))\n",
    "    worksheet1.write(i, 1, train_time)\n",
    "    worksheet1.write(i, 2, test_time)\n",
    "    worksheet1.write(i, 3, score_train)\n",
    "    worksheet1.write(i, 4, loss_train)\n",
    "    worksheet1.write(i, 5, score_test)\n",
    "    worksheet1.write(i, 6, loss_test)\n",
    "    worksheet1.write(i, 7, mcc)\n",
    "\n",
    "workbook.close()\n",
    "\n",
    "# Save prediction\n",
    "new_data = {'pred_labels': globel_perd, 'class_labels': globel_class}\n",
    "savemat(fr'D:\\Transformer-Based-approach-for-hand-gesture-recognition-through-EMG-signals\\DB4\\results\\v1\\general_results\\trans_global_predection.mat', new_data)\n",
    "\n",
    "mat = confusion_matrix(globel_class1, globel_perd1)\n",
    "cfm_plot, ax = plot_confusion_matrix(mat, figsize=(10, 10), show_normed=True, show_absolute=False)\n",
    "cfm_plot.savefig(fr'D:\\Transformer-Based-approach-for-hand-gesture-recognition-through-EMG-signals\\DB4\\results\\v1\\general_results\\trans_global_confusion_matrix.png')\n",
    "\n",
    "\n"
   ]
  }
 ],
 "metadata": {
  "accelerator": "GPU",
  "colab": {
   "authorship_tag": "ABX9TyNDUIzvfow0JI8wB8otquOz",
   "gpuType": "T4",
   "mount_file_id": "1JSyW4UQvgwEsjzCLqSH5cpW_MBAbgR7f",
   "provenance": []
  },
  "kernelspec": {
   "display_name": "Python 3",
   "name": "python3"
  },
  "language_info": {
   "name": "python",
   "version": "3.10.7"
  }
 },
 "nbformat": 4,
 "nbformat_minor": 0
}
