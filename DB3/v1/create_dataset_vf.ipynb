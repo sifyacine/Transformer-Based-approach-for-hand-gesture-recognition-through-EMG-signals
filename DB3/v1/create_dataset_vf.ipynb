{
 "cells": [
  {
   "cell_type": "code",
   "execution_count": 26,
   "metadata": {
    "executionInfo": {
     "elapsed": 2966,
     "status": "ok",
     "timestamp": 1632432894173,
     "user": {
      "displayName": "EMG hand gesture Recognition system",
      "photoUrl": "https://lh3.googleusercontent.com/a/default-user=s64",
      "userId": "16267807696113233248"
     },
     "user_tz": -60
    },
    "id": "gq_kAOZp0A3s"
   },
   "outputs": [],
   "source": [
    "from scipy.io import loadmat\n",
    "from scipy.io import savemat\n",
    "import numpy as np\n",
    "import statistics as stat\n",
    "import random\n",
    "from tensorflow.keras.utils import to_categorical\n",
    "from sklearn.preprocessing import StandardScaler"
   ]
  },
  {
   "cell_type": "code",
   "execution_count": 27,
   "metadata": {
    "executionInfo": {
     "elapsed": 8,
     "status": "ok",
     "timestamp": 1632432894176,
     "user": {
      "displayName": "EMG hand gesture Recognition system",
      "photoUrl": "https://lh3.googleusercontent.com/a/default-user=s64",
      "userId": "16267807696113233248"
     },
     "user_tz": -60
    },
    "id": "q0y39MP5J12v"
   },
   "outputs": [],
   "source": [
    "def get_signals_info(emg, restimulus, debut , fin):\n",
    "    emg_signals = emg[debut:fin]\n",
    "    emg_labels_ = restimulus[debut:fin]\n",
    "    emg_labels = list(map(lambda x: x[0], emg_labels_))\n",
    "    return emg_signals, emg_labels\n",
    "    \n",
    "def get_index_list(labels, index_mouve):\n",
    "  index_list = ([np.where(labels == index_mouve) ])\n",
    "  return np.squeeze(np.concatenate(index_list, axis=1))\n",
    "  \n",
    "##########################################################################################################################\n",
    "def cpt_mouvements(db_labels):\n",
    "  cpt = [0, 0, 0, 0, 0, 0, 0, 0, 0, 0, 0, 0, 0, 0, 0, 0]\n",
    "\n",
    "  for i in db_labels:\n",
    "    cpt[i] += 1\n",
    "  return cpt\n",
    "\n",
    "def cpt_mouvements_v2(db_labels):\n",
    "  cpt = [0, 0, 0, 0, 0, 0, 0, 0, 0, 0, 0, 0, 0, 0, 0, 0]\n",
    "\n",
    "  print(db_labels.shape)\n",
    "\n",
    "  for i in range(db_labels.shape[0]):\n",
    "    for j in range(db_labels.shape[1]):\n",
    "      if db_labels[i][j] == 1:\n",
    "          cpt[j] += 1\n",
    "  return cpt\n",
    "\n",
    "def affich_mouvements(db_labels):\n",
    "  total = 0  \n",
    "  cpt = cpt_mouvements_v2(db_labels)\n",
    "\n",
    "  for j in range(len(cpt)):\n",
    "    if cpt[j] > 0:\n",
    "      total += cpt[j]\n",
    "      print(\"> mouvement \"+str(j)+ \" : \" + str(cpt[j]))\n",
    "  print(\"> Le nombre total d'echantillons : \" + str(total) )    \n"
   ]
  },
  {
   "cell_type": "code",
   "execution_count": 28,
   "metadata": {
    "executionInfo": {
     "elapsed": 499,
     "status": "ok",
     "timestamp": 1632432894668,
     "user": {
      "displayName": "EMG hand gesture Recognition system",
      "photoUrl": "https://lh3.googleusercontent.com/a/default-user=s64",
      "userId": "16267807696113233248"
     },
     "user_tz": -60
    },
    "id": "GrzBAEA364yA"
   },
   "outputs": [],
   "source": [
    "def creat_dataset(emg, restimulus, debut, fin, window = 300, window_inc = 300, ratio = (2/3)): #\n",
    "  ### Signals ### \n",
    "  data_set = []\n",
    "  ### labels ### \n",
    "  cpt_mouvements= 0\n",
    "  select_val = int((window * ratio))  ##########################################\n",
    "  labels_list = []\n",
    "  current_mouv = 0\n",
    "              ########################### \n",
    "  for pose in range(len(debut)) : \n",
    "\n",
    "    train_signals, train_labels = get_signals_info(emg, restimulus, debut[pose], fin[pose])\n",
    "      \n",
    "    for i in range(int((fin[pose]-debut[pose])/window_inc)):\n",
    "      startL = i * window_inc\n",
    "      endL = startL + window\n",
    "      if endL > (fin[pose]-debut[pose]):\n",
    "        break;\n",
    "      else:\n",
    "\n",
    "        ### labels ###\n",
    "        for j in range(startL, endL):\n",
    "          if train_labels[j] > 0:\n",
    "            if train_labels[j] > current_mouv:\n",
    "                current_mouv = train_labels[j]\n",
    "                cpt_mouvements = 1\n",
    "            elif int(train_labels[j]) == int(current_mouv):\n",
    "                cpt_mouvements += 1\n",
    "        if cpt_mouvements > select_val:\n",
    "                if current_mouv > 9:\n",
    "                   labels_list.append(current_mouv-2)\n",
    "                else:\n",
    "                  labels_list.append(current_mouv)\n",
    "\n",
    "                ### Signals ###\n",
    "                data_set.append(train_signals[startL:endL])           \n",
    "        elif cpt_mouvements == 0:\n",
    "                labels_list.append(0)\n",
    "                ### Signals ###\n",
    "                data_set.append(train_signals[startL:endL])\n",
    "                \n",
    "        cpt_mouvements = 0\n",
    "        current_mouv = 0\n",
    "\n",
    "  return data_set, labels_list\n",
    "\n",
    "def remouve_mouves(train_data,train_labels,test_data,test_labels):\n",
    "\n",
    "    cpt_train = cpt_mouvements(train_labels)\n",
    "    cpt_test = cpt_mouvements(test_labels)\n",
    "\n",
    "\n",
    "    train_mean = int(stat.mean(cpt_train[1:16]))\n",
    "    test_mean = int(stat.mean(cpt_test[1:16]))\n",
    "\n",
    "    for i in range(len(cpt_train)):\n",
    "\n",
    "      to_remove_train = cpt_train[i] - int(train_mean)\n",
    "      to_remove_test = cpt_test[i] - int(test_mean)\n",
    "\n",
    "      if to_remove_train > 0:  \n",
    "        zeros_list = get_index_list(train_labels, i)\n",
    "        zeros_toremove = random.sample(list(zeros_list), to_remove_train)\n",
    "\n",
    "        train_labels = np.delete(train_labels, zeros_toremove, axis=0)\n",
    "        train_data = np.delete(train_data, zeros_toremove, axis=0)\n",
    "\n",
    "      if to_remove_test > 0:\n",
    "        zeros_list = get_index_list(test_labels, i)\n",
    "        zeros_toremove = random.sample(list(zeros_list), to_remove_test)\n",
    "\n",
    "        test_labels = np.delete(test_labels, zeros_toremove, axis=0)\n",
    "        test_data = np.delete(test_data, zeros_toremove, axis=0)\n",
    "    \n",
    "    return train_data,train_labels,test_data,test_labels\n"
   ]
  },
  {
   "cell_type": "code",
   "execution_count": 29,
   "metadata": {
    "executionInfo": {
     "elapsed": 6,
     "status": "ok",
     "timestamp": 1632432894668,
     "user": {
      "displayName": "EMG hand gesture Recognition system",
      "photoUrl": "https://lh3.googleusercontent.com/a/default-user=s64",
      "userId": "16267807696113233248"
     },
     "user_tz": -60
    },
    "id": "qnDUi7XzjrNi"
   },
   "outputs": [],
   "source": [
    "def dataset_normalize(train_data, test_data):\n",
    "\n",
    "  train_data = np.array(train_data)\n",
    "  test_data = np.array(test_data)\n",
    "\n",
    "  train_x = train_data.shape[0]\n",
    "  train_y = train_data.shape[1]\n",
    "  train_z = train_data.shape[2]\n",
    "\n",
    "  test_x = test_data.shape[0]\n",
    "  test_y = test_data.shape[1]\n",
    "  test_z = test_data.shape[2]\n",
    "\n",
    "  train_data = train_data.reshape(train_x*train_y, train_z)\n",
    "  test_data = test_data.reshape(test_x*test_y, test_z)\n",
    "\n",
    "  scaler = StandardScaler(with_mean=True, with_std=True).fit(train_data)\n",
    "  \n",
    "  train_N = scaler.transform(train_data)\n",
    "  test_N = scaler.transform(test_data)\n",
    "\n",
    "  train_N = train_N.reshape(train_x, train_y, train_z)\n",
    "  test_N = test_N.reshape(test_x, test_y, test_z)\n",
    "  return train_N, test_N"
   ]
  },
  {
   "cell_type": "code",
   "execution_count": 30,
   "metadata": {
    "executionInfo": {
     "elapsed": 8,
     "status": "ok",
     "timestamp": 1632432894174,
     "user": {
      "displayName": "EMG hand gesture Recognition system",
      "photoUrl": "https://lh3.googleusercontent.com/a/default-user=s64",
      "userId": "16267807696113233248"
     },
     "user_tz": -60
    },
    "id": "f5RFoJHhPese"
   },
   "outputs": [],
   "source": [
    "#Determiner le debut et la fin de chaque repetition pour chaque mouvement \n",
    "def get_labels_interv(rerepitition):\n",
    "  rerepitition = np.squeeze(rerepitition)\n",
    "  global_labels = []\n",
    "  local_labels = [0]\n",
    "  mouvement = 1\n",
    "  cpt = 0\n",
    "  for i in range(len(rerepitition)):\n",
    "    if rerepitition[i] == 0:\n",
    "      local_labels.append(i)\n",
    "      global_labels.append(local_labels)\n",
    "      cpt = 0\n",
    "      break\n",
    "    elif rerepitition[i] != mouvement:\n",
    "      cpt += 1\n",
    "      local_labels.append(i)\n",
    "      mouvement = rerepitition[i]\n",
    "      if mouvement == 1 and cpt == 6:\n",
    "        global_labels.append(local_labels)\n",
    "        local_labels = [i]                            \n",
    "        cpt = 0\n",
    "  return global_labels"
   ]
  },
  {
   "cell_type": "code",
   "execution_count": 31,
   "metadata": {
    "executionInfo": {
     "elapsed": 7,
     "status": "ok",
     "timestamp": 1632432894174,
     "user": {
      "displayName": "EMG hand gesture Recognition system",
      "photoUrl": "https://lh3.googleusercontent.com/a/default-user=s64",
      "userId": "16267807696113233248"
     },
     "user_tz": -60
    },
    "id": "VyJXajN4UZGk"
   },
   "outputs": [],
   "source": [
    "#L'intervalle d'etude\n",
    "def start_end_list(rerepetition= [], window= 300, rep_train = [1,2,4,6], rep_test = [3,5]):\n",
    "  global_labels = get_labels_interv(rerepetition)\n",
    "  train_debut = []\n",
    "  train_fin = []\n",
    "  test_debut = []\n",
    "  test_fin = []\n",
    "\n",
    "  for i in global_labels[:9]: \n",
    "    for j in rep_train:\n",
    "      train_debut.append(i[j-1])\n",
    "      fin = int((i[j]-i[j-1])/window)*window + i[j-1]\n",
    "      train_fin.append(fin)\n",
    "    for k in rep_test:\n",
    "      test_debut.append(i[k-1])\n",
    "      fin = int((i[k]-i[k-1])/window)*window + i[k-1]\n",
    "      test_fin.append(fin)\n",
    "    \n",
    "  for i in global_labels[11:]: \n",
    "    for j in rep_train:\n",
    "      train_debut.append(i[j-1])\n",
    "      fin = int((i[j]-i[j-1])/window)*window + i[j-1]\n",
    "      train_fin.append(fin)\n",
    "    for k in rep_test:\n",
    "      test_debut.append(i[k-1])\n",
    "      fin = int((i[k]-i[k-1])/window)*window + i[k-1]\n",
    "      test_fin.append(fin)\n",
    "\n",
    "  return train_debut,train_fin,test_debut,test_fin"
   ]
  },
  {
   "cell_type": "code",
   "execution_count": 32,
   "metadata": {
    "executionInfo": {
     "elapsed": 5,
     "status": "ok",
     "timestamp": 1632432894669,
     "user": {
      "displayName": "EMG hand gesture Recognition system",
      "photoUrl": "https://lh3.googleusercontent.com/a/default-user=s64",
      "userId": "16267807696113233248"
     },
     "user_tz": -60
    },
    "id": "iGNPYKODBBns"
   },
   "outputs": [],
   "source": [
    "def creation(filename, window = 300, window_inc = 300, ratio = (2/3)):\n",
    "  train_data = []\n",
    "  train_labels = []\n",
    "  test_data = []\n",
    "  test_labels = []\n",
    "  \n",
    "  for sujet in filename:\n",
    "    data = loadmat(sujet)\n",
    "    emg = data['emg']\n",
    "    restimulus = data['restimulus']\n",
    "    rerepetition = data['rerepetition']\n",
    "\n",
    "    train_debut,train_fin,test_debut,test_fin = start_end_list(rerepetition, window= window)\n",
    "\n",
    "    trainX, trainY = creat_dataset(emg = emg, restimulus = restimulus, debut = train_debut, fin = train_fin, window = window, window_inc = window_inc, ratio = ratio )\n",
    "    testX, testY = creat_dataset(emg = emg, restimulus = restimulus, debut = test_debut, fin = test_fin, window = window, window_inc = window_inc, ratio = ratio)\n",
    "\n",
    "    train_data.extend(trainX)\n",
    "    train_labels.extend(trainY)\n",
    "    test_data.extend(testX)\n",
    "    test_labels.extend(testY)\n",
    "\n",
    "  ### Signals ### \n",
    "  train_data = np.array(train_data)\n",
    "  test_data = np.array(test_data)\n",
    "  ### labels ###      \n",
    "  train_labels = np.array(train_labels)\n",
    "  test_labels = np.array(test_labels)\n",
    "\n",
    "  train_data,train_labels,test_data,test_labels = remouve_mouves(train_data,train_labels,test_data,test_labels)\n",
    "\n",
    "\n",
    "  train_labels = to_categorical(train_labels) \n",
    "  test_labels = to_categorical(test_labels)\n",
    "\n",
    "  return train_data,train_labels,test_data,test_labels"
   ]
  },
  {
   "cell_type": "code",
   "execution_count": 33,
   "metadata": {
    "executionInfo": {
     "elapsed": 15448,
     "status": "ok",
     "timestamp": 1632432910113,
     "user": {
      "displayName": "EMG hand gesture Recognition system",
      "photoUrl": "https://lh3.googleusercontent.com/a/default-user=s64",
      "userId": "16267807696113233248"
     },
     "user_tz": -60
    },
    "id": "SzhbIxeDmvch"
   },
   "outputs": [],
   "source": [
    "############# Creation du Dataset ########\n",
    "Subjects = []\n",
    "for i in range(1, 12):  # Looping through DB3_s1 to DB3_s11\n",
    "    subject_folder = f\"DB3_s{i}\"  # Folder name (e.g., DB3_s1)\n",
    "    subject_file = f\"S{i}_E1_A1.mat\"  # File name (e.g., S1_E1_A1.mat)\n",
    "    \n",
    "    input_path = fr\"G:\\former students work\\Code source\\DB3\\{subject_folder}\\{subject_file}\"\n",
    "    train_data, train_labels, test_data, test_labels = creation(filename=[input_path], window=300, window_inc=200)\n",
    "\n",
    "    output_path = fr\"G:\\former students work\\Code source\\DB3_new\\DB3_s{i}_E1_A1_150_100.mat\"\n",
    "    new_data = {'train_data': train_data, 'train_labels': train_labels, 'test_data': test_data, 'test_labels': test_labels}\n",
    "    savemat(output_path, new_data)\n"
   ]
  },
  {
   "cell_type": "code",
   "execution_count": 34,
   "metadata": {
    "executionInfo": {
     "elapsed": 5,
     "status": "ok",
     "timestamp": 1632432894669,
     "user": {
      "displayName": "EMG hand gesture Recognition system",
      "photoUrl": "https://lh3.googleusercontent.com/a/default-user=s64",
      "userId": "16267807696113233248"
     },
     "user_tz": -60
    },
    "id": "nFFpFuWujvev"
   },
   "outputs": [],
   "source": [
    "def create_normalized_dataset(filename):\n",
    "\n",
    "    data = loadmat(r\"\"+ filename +\"\")\n",
    "    train_data = data['train_data']\n",
    "    test_data  = data['test_data']\n",
    "\n",
    "    train_N, test_N = dataset_normalize(train_data, test_data)\n",
    "    return train_N, data['train_labels'], test_N, data['test_labels']"
   ]
  },
  {
   "cell_type": "code",
   "execution_count": 35,
   "metadata": {
    "executionInfo": {
     "elapsed": 732,
     "status": "ok",
     "timestamp": 1632432910842,
     "user": {
      "displayName": "EMG hand gesture Recognition system",
      "photoUrl": "https://lh3.googleusercontent.com/a/default-user=s64",
      "userId": "16267807696113233248"
     },
     "user_tz": -60
    },
    "id": "umCjIg61j8Ls"
   },
   "outputs": [],
   "source": [
    "############# Creation d'un dataset avec des données normalisées ########\n",
    "for i in range(1, 12):  # Adjusted to match DB3_s1 to DB3_s11\n",
    "    Subject = fr\"G:\\former students work\\Code source\\DB3_new\\DB3_s{i}_E1_A1_150_100.mat\"\n",
    "    train_N, train_labels, test_N, test_labels = create_normalized_dataset(Subject)\n",
    "\n",
    "    output_path = fr\"G:\\former students work\\Code source\\DB3_new\\DB3_s{i}_E1_A1_150_100_N.mat\"\n",
    "    new_data = {'train_data': train_N, 'train_labels': train_labels, 'test_data': test_N, 'test_labels': test_labels}\n",
    "    savemat(output_path, new_data)\n"
   ]
  }
 ],
 "metadata": {
  "colab": {
   "collapsed_sections": [],
   "name": "create_dataset_vf.ipynb",
   "provenance": []
  },
  "kernelspec": {
   "display_name": "Python 3",
   "language": "python",
   "name": "python3"
  },
  "language_info": {
   "codemirror_mode": {
    "name": "ipython",
    "version": 3
   },
   "file_extension": ".py",
   "mimetype": "text/x-python",
   "name": "python",
   "nbconvert_exporter": "python",
   "pygments_lexer": "ipython3",
   "version": "3.10.7"
  }
 },
 "nbformat": 4,
 "nbformat_minor": 0
}
